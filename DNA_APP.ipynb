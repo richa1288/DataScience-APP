{
  "nbformat": 4,
  "nbformat_minor": 0,
  "metadata": {
    "colab": {
      "name": "DNA_APP.ipynb",
      "provenance": [],
      "authorship_tag": "ABX9TyOU4zcQ9qcBl1f7p8lfmjj7",
      "include_colab_link": true
    },
    "kernelspec": {
      "name": "python3",
      "display_name": "Python 3"
    },
    "language_info": {
      "name": "python"
    }
  },
  "cells": [
    {
      "cell_type": "markdown",
      "metadata": {
        "id": "view-in-github",
        "colab_type": "text"
      },
      "source": [
        "<a href=\"https://colab.research.google.com/github/richa1288/DataScience-APP/blob/main/DNA_APP.ipynb\" target=\"_parent\"><img src=\"https://colab.research.google.com/assets/colab-badge.svg\" alt=\"Open In Colab\"/></a>"
      ]
    },
    {
      "cell_type": "code",
      "execution_count": null,
      "metadata": {
        "id": "FqnBZ5me0D-Q"
      },
      "outputs": [],
      "source": [
        "import pandas as pd\n",
        "import streamlit as st\n",
        "import altair as alt\n",
        "from PIL import Image\n",
        "\n",
        "image = Image.open('dna-logo.jpg')\n",
        "\n",
        "st.image(image, use_column_width=True)\n",
        "\n",
        "st.write(\"DNA APP\")\n",
        "st.sidebar.header('Enter DNA sequence')\n",
        "st.header('Enter DNA sequence')\n",
        "\n",
        "sequence_input = \">DNA Query 2\\nGAACACGTGGAGGCAAACAGGAAGGTGAAGAAGAACTTATCCTATCAGGACGGAAGGTCCTGTGCTCGGG\\nATCTTCCAGACGTCGCGACTCTAAATTGCCCCCTCTGAGGTCAAGGAACACAAGATGGTTTTGGAAATGC\\nTGAACCCGATACATTATAACATCACCAGCATCGTGCCTGAAGCCATGCCTGCTGCCACCATGCCAGTCCT\"\n",
        "\n",
        "sequence = st.sidebar.text_area(\"Sequence input\", sequence_input, height=250)\n",
        "sequence = st.text_area(\"Sequence input\", sequence_input, height=250)\n",
        "sequence = sequence.splitlines()\n",
        "sequence = sequence[1:] # Skips the sequence name (first line)\n",
        "sequence = ''.join(sequence) # Concatenates list to string\n",
        "\n",
        "st.write(\"\"\"\n",
        "***\n",
        "\"\"\")\n",
        "\n",
        "## Prints the input DNA sequence\n",
        "st.header('INPUT (DNA Query)')\n",
        "sequence\n",
        "\n",
        "## DNA nucleotide count\n",
        "st.header('OUTPUT (DNA Nucleotide Count)')\n",
        "\n",
        "\n",
        "st.subheader('1. Print dictionary')\n",
        "def DNA_nucleotide_count(seq):\n",
        "  d = dict([\n",
        "            ('A',seq.count('A')),\n",
        "            ('T',seq.count('T')),\n",
        "            ('G',seq.count('G')),\n",
        "            ('C',seq.count('C'))\n",
        "            ])\n",
        "  return d\n",
        "\n",
        "X = DNA_nucleotide_count(sequence)\n",
        "\n",
        "#X_label = list(X)\n",
        "#X_values = list(X.values())\n",
        "\n",
        "X\n",
        "\n",
        "\n",
        "st.subheader('2. Print text')\n",
        "st.write('There are  ' + str(X['A']) + ' adenine (A)')\n",
        "st.write('There are  ' + str(X['T']) + ' thymine (T)')\n",
        "st.write('There are  ' + str(X['G']) + ' guanine (G)')\n",
        "st.write('There are  ' + str(X['C']) + ' cytosine (C)')\n",
        "\n",
        "st.subheader('3. Display DataFrame')\n",
        "df = pd.DataFrame.from_dict(X, orient='index')\n",
        "df = df.rename({0: 'count'}, axis='columns')\n",
        "df.reset_index(inplace=True)\n",
        "df = df.rename(columns = {'index':'nucleotide'})\n",
        "st.write(df)\n",
        "\n",
        "st.subheader('4. Display Bar chart')\n",
        "p = alt.Chart(df).mark_bar().encode(\n",
        "    x='nucleotide',\n",
        "    y='count'\n",
        ")\n",
        "p = p.properties(\n",
        "    width=alt.Step(80)  # controls width of bar.\n",
        ")\n",
        "st.write(p)"
      ]
    }
  ]
}